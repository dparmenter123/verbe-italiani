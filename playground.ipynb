{
 "cells": [
  {
   "cell_type": "code",
   "execution_count": 51,
   "metadata": {},
   "outputs": [],
   "source": [
    "import csv\n",
    "\n",
    "ver0 = {}\n",
    "ver1 = {}\n",
    "\n",
    "with open('data/csvs/ver0.csv', encoding='utf-8', mode='r') as f:\n",
    "    reader = csv.reader(f, delimiter=',', quotechar='\"', quoting=csv.QUOTE_ALL)\n",
    "    for front, back in reader:\n",
    "        ver0[front] = back\n",
    "       \n",
    "with open('data/csvs/mini-verbs.csv', encoding='utf-8', mode='r') as f:\n",
    "    reader = csv.reader(f, delimiter=',', quotechar='\"', quoting=csv.QUOTE_ALL)\n",
    "    for front, back in reader:\n",
    "        ver1[front] = back\n",
    "\n",
    "with open('data/csvs/ver2.csv', encoding='utf-8', mode='w') as f:\n",
    "        w = csv.writer(f, delimiter=',', quotechar='\"', quoting=csv.QUOTE_ALL)\n",
    "        for key in ver1.keys() - ver0.keys():\n",
    "            w.writerow([key, ver1[key]])\n",
    "            \n"
   ]
  },
  {
   "cell_type": "code",
   "execution_count": 36,
   "metadata": {},
   "outputs": [
    {
     "data": {
      "text/plain": [
       "['(...ndo) ...  ABITARE',\n",
       " '(...ndo) ...  ACCOMODARSI',\n",
       " '(...ndo) ...  ADDORMENTARSI',\n",
       " '(...ndo) ...  AIUTARE',\n",
       " '(...ndo) ...  ALZARSI']"
      ]
     },
     "execution_count": 36,
     "metadata": {},
     "output_type": "execute_result"
    }
   ],
   "source": [
    "ver0[:5]"
   ]
  },
  {
   "cell_type": "code",
   "execution_count": 37,
   "metadata": {},
   "outputs": [
    {
     "data": {
      "text/plain": [
       "['(...ndo) ...  ABITARE',\n",
       " '(...ndo) ...  ACCOMODARSI',\n",
       " '(...ndo) ...  ADDORMENTARSI',\n",
       " '(...ndo) ...  AIUTARE',\n",
       " '(...ndo) ...  ALZARSI']"
      ]
     },
     "execution_count": 37,
     "metadata": {},
     "output_type": "execute_result"
    }
   ],
   "source": [
    "ver1[:5]"
   ]
  },
  {
   "cell_type": "code",
   "execution_count": null,
   "metadata": {},
   "outputs": [],
   "source": []
  }
 ],
 "metadata": {
  "kernelspec": {
   "display_name": "Python 3",
   "language": "python",
   "name": "python3"
  },
  "language_info": {
   "codemirror_mode": {
    "name": "ipython",
    "version": 3
   },
   "file_extension": ".py",
   "mimetype": "text/x-python",
   "name": "python",
   "nbconvert_exporter": "python",
   "pygments_lexer": "ipython3",
   "version": "3.7.5"
  }
 },
 "nbformat": 4,
 "nbformat_minor": 4
}
