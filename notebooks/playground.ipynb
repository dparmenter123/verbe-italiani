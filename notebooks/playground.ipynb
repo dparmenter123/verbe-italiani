{
 "cells": [
  {
   "cell_type": "code",
   "execution_count": null,
   "metadata": {},
   "outputs": [],
   "source": [
    "import re\n",
    "import os\n",
    "import sys\n",
    "import urllib.request\n",
    "import csv\n",
    "import random\n",
    "from bs4 import BeautifulSoup\n",
    "\n",
    "####################\n",
    "#\n",
    "####################\n",
    "\n",
    "ITALIAN_VERB = \"https://conjugator.reverso.net/conjugation-italian-verb-%s.html\"\n",
    "IDATA = 'data/italian'\n",
    "CSVDATA = 'data/csvs'\n",
    "\n",
    "# create database if need be\n",
    "try:\n",
    "    os.makedirs(IDATA)\n",
    "    os.makedirs(CSVDATA)\n",
    "except FileExistsError:\n",
    "    pass\n",
    "\n",
    "####################\n",
    "#\n",
    "####################\n",
    "\n",
    "def request_contents(url):\n",
    "    try:\n",
    "        contents = urllib.request.urlopen(url)\n",
    "    except urllib.error.HTTPError:\n",
    "        return(None)\n",
    "    return(contents.read().decode(encoding=\"utf-8\", errors=\"strict\"))\n",
    "\n",
    "def download_verb_data(verb):\n",
    "    url = ITALIAN_VERB % verb\n",
    "    datapath = '%s/%s.html' % (IDATA, verb)\n",
    "\n",
    "    try:\n",
    "        with (open(datapath, 'r')) as f:\n",
    "            contents = f.read()\n",
    "    except FileNotFoundError:\n",
    "        contents = None\n",
    "        \n",
    "    if not contents:\n",
    "        contents = request_contents(url)\n",
    "        \n",
    "    if not contents:\n",
    "        sys.stderr.write('ERROR: [%s] not found' % (verb))\n",
    "        return(None)\n",
    "    \n",
    "    with open(datapath, 'w') as f:\n",
    "        f.write(contents)\n",
    "            \n",
    "    soup = BeautifulSoup(contents, 'html.parser')\n",
    "    body = soup.html.body\n",
    "    \n",
    "    # check for errors\n",
    "    unknown = body.find_all('div', attrs={'id' : \"ch_lblWarning\"})\n",
    "    if len(unknown) > 0:\n",
    "        sys.stderr.write('ERROR: [%s] is not a real verb' % (verb))\n",
    "        return(None)\n",
    "    return (body)"
   ]
  },
  {
   "cell_type": "code",
   "execution_count": 1,
   "metadata": {},
   "outputs": [
    {
     "data": {
      "text/plain": [
       "4"
      ]
     },
     "execution_count": 1,
     "metadata": {},
     "output_type": "execute_result"
    }
   ],
   "source": [
    "2 + 2"
   ]
  },
  {
   "cell_type": "markdown",
   "metadata": {},
   "source": [
    "# Italian Verbs\n",
    "\n",
    "This site is designed to help me somehow learn the many Italian conjugations of common and irregular verbs.\n",
    "\n",
    "##\n"
   ]
  },
  {
   "cell_type": "code",
   "execution_count": null,
   "metadata": {},
   "outputs": [],
   "source": [
    "def one_block(body, verb, mobile_title):\n",
    "    mood_tense = mobile_title.split(' ')\n",
    "    mood = mood_tense[0]\n",
    "    tense = ' '.join(mood_tense[1:])\n",
    "    for block in body.find_all('div', attrs={\"mobile-title\": mobile_title}):\n",
    "        forms = [li.text for li in block.find_all('li')]\n",
    "        if len(forms) == 6:\n",
    "            forms = [\n",
    "                forms[0],\n",
    "                forms[1],\n",
    "                re.sub('lei/lui', 'lui', forms[2]),\n",
    "                re.sub('lei/lui', 'lei', forms[2]),\n",
    "                forms[3],\n",
    "                forms[4],\n",
    "                re.sub('loro', 'loro(m)', forms[5]),\n",
    "                re.sub('loro', 'loro(f)', forms[5]),\n",
    "            ]\n",
    "        return ({mobile_title : forms})"
   ]
  },
  {
   "cell_type": "code",
   "execution_count": 1,
   "metadata": {},
   "outputs": [],
   "source": [
    "blocks = {\n",
    "    \"Indicativo Imperfetto\" : \"Imperfetto\",\n",
    "    \"Indicativo Passato remoto\" : \"Passato Remoto\",\n",
    "    \"Indicativo Futuro semplice\" : \"Futuro\",\n",
    "    \"Indicativo Passato prossimo\" : \"Perfetto\",\n",
    "    \"Indicativo Trapassato prossimo\" : \"Trapassato Prossimo\",\n",
    "    \"Indicativo Futuro anteriore\" : \"Futuro Anteriore\",\n",
    "    \"Congiuntivo Presente\" : \"(che) Presente\",\n",
    "    \"Congiuntivo Passato\" : \"(che) Passato\",\n",
    "    \"Congiuntivo Trapassato\" : \"(che) Trapassato\",\n",
    "    \"Congiuntivo Imperfetto\" : \"(che) Imperfetto\",\n",
    "    \"Condizionale Presente\" : \"(se) Presente\",\n",
    "    \"Condizionale Passato\" : \"(se) Passato\",\n",
    "}"
   ]
  },
  {
   "cell_type": "code",
   "execution_count": 9,
   "metadata": {},
   "outputs": [
    {
     "name": "stdout",
     "output_type": "stream",
     "text": [
      "InIm\n",
      "InPare\n",
      "InFuse\n",
      "InPapr\n",
      "InTrpr\n",
      "InFuan\n",
      "CoPr\n",
      "CoPa\n",
      "CoTr\n",
      "CoIm\n",
      "CoPr\n",
      "CoPa\n"
     ]
    }
   ],
   "source": [
    "for key in blocks.keys():\n",
    "    print(''.join([x[0:2] for x in key.split(' ')]))"
   ]
  },
  {
   "cell_type": "code",
   "execution_count": null,
   "metadata": {},
   "outputs": [],
   "source": [
    "def one_verb(verb):\n",
    "    sys.stderr.write('[%s]\\n' % (verb))\n",
    "    body = download_verb_data(verb)\n",
    "    if not body:\n",
    "        return(None)\n",
    "    \n",
    "    present = one_block( body, verb, \"Indicativo Presente\")[\"Indicativo Presente\"]\n",
    "    \n",
    "    forms = {}\n",
    "    for block in blocks.keys():\n",
    "        forms.update(one_block( body, verb, block))\n",
    "        \n",
    "    cards = []\n",
    "    for block in blocks.keys():\n",
    "        for i in range(8):\n",
    "            front = '%s -> %s' %(present[i], blocks[block])\n",
    "            back = forms[block][i]\n",
    "            cards += [[verb, front, back]]\n",
    "    return(cards)\n",
    "\n",
    "one_verb('sposarsi')\n"
   ]
  },
  {
   "cell_type": "code",
   "execution_count": null,
   "metadata": {},
   "outputs": [],
   "source": [
    "x = []\n",
    "x += [[1]]\n",
    "x += [[2]]\n",
    "x"
   ]
  },
  {
   "cell_type": "code",
   "execution_count": null,
   "metadata": {},
   "outputs": [],
   "source": []
  },
  {
   "cell_type": "code",
   "execution_count": null,
   "metadata": {},
   "outputs": [],
   "source": []
  }
 ],
 "metadata": {
  "kernelspec": {
   "display_name": "Python 3",
   "language": "python",
   "name": "python3"
  },
  "language_info": {
   "codemirror_mode": {
    "name": "ipython",
    "version": 3
   },
   "file_extension": ".py",
   "mimetype": "text/x-python",
   "name": "python",
   "nbconvert_exporter": "python",
   "pygments_lexer": "ipython3",
   "version": "3.7.5"
  }
 },
 "nbformat": 4,
 "nbformat_minor": 4
}
