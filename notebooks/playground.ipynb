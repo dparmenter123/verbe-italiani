{
 "cells": [
  {
   "cell_type": "code",
   "execution_count": 1,
   "metadata": {},
   "outputs": [
    {
     "data": {
      "text/plain": [
       "(1974,\n",
       " ['andare', 'aprire', 'avere', 'bere', 'cadere'],\n",
       " ['bluffare', 'spettegolare', 'fraternizzare', 'pomiciare', 'internalizzare'])"
      ]
     },
     "execution_count": 1,
     "metadata": {},
     "output_type": "execute_result"
    }
   ],
   "source": [
    "import sqlite3\n",
    "\n",
    "# all the verbs, ordered\n",
    "QUERY = '''\n",
    "  select a.verb from appdb a\n",
    "  ORDER BY a.freq DESC\n",
    "'''\n",
    "conn = sqlite3.connect('/Users/davidp/work/verbe-italiani/data/db/app.db')\n",
    "c = conn.cursor()\n",
    "verbs = [row[0] for row in c.execute(QUERY)]\n",
    "len(verbs), verbs[:5], verbs[-5:]"
   ]
  },
  {
   "cell_type": "code",
   "execution_count": 2,
   "metadata": {},
   "outputs": [
    {
     "data": {
      "text/plain": [
       "([('farsi',), ('darsi',), ('trovare',), ('trovarsi',), ('vedere',)],\n",
       " [('bluffare',),\n",
       "  ('spettegolare',),\n",
       "  ('fraternizzare',),\n",
       "  ('pomiciare',),\n",
       "  ('internalizzare',)])"
      ]
     },
     "execution_count": 2,
     "metadata": {},
     "output_type": "execute_result"
    }
   ],
   "source": [
    "# just the irregular verbs\n",
    "QUERY = '''\n",
    "  select a.verb from appdb a\n",
    "  WHERE NOT a.irregular\n",
    "  ORDER BY a.freq DESC  \n",
    "'''\n",
    "conn = sqlite3.connect('/Users/davidp/work/verbe-italiani/data/db/app.db')\n",
    "c = conn.cursor()\n",
    "regulars = [row for row in c.execute(QUERY)]\n",
    "regulars[:5], regulars[-5:]"
   ]
  },
  {
   "cell_type": "code",
   "execution_count": 3,
   "metadata": {},
   "outputs": [
    {
     "data": {
      "text/plain": [
       "(['andare', 'aprire', 'avere', 'bere', 'cadere'],\n",
       " ['stare', 'tradurre', 'uscire', 'venire', 'volere'])"
      ]
     },
     "execution_count": 3,
     "metadata": {},
     "output_type": "execute_result"
    }
   ],
   "source": [
    "# just the irregular verbs\n",
    "QUERY = '''\n",
    "  select a.verb from appdb a\n",
    "  WHERE a.irregular\n",
    "  ORDER BY a.freq DESC  \n",
    "'''\n",
    "conn = sqlite3.connect('/Users/davidp/work/verbe-italiani/data/db/app.db')\n",
    "c = conn.cursor()\n",
    "irregulars = [row[0] for row in c.execute(QUERY)]\n",
    "irregulars[:5], irregulars[-5:]"
   ]
  },
  {
   "cell_type": "code",
   "execution_count": 10,
   "metadata": {},
   "outputs": [
    {
     "name": "stdout",
     "output_type": "stream",
     "text": [
      "['1', '3', '6']\n",
      "['0', '3', '6']\n",
      "['1', '4', '7']\n",
      "['1', '3', '4']\n",
      "['0', '1', '4']\n",
      "['0', '1', '2']\n",
      "['1', '3', '5']\n",
      "['0', '1', '7']\n",
      "['0', '4', '6']\n",
      "['3', '4', '5']\n"
     ]
    }
   ],
   "source": [
    "import random\n",
    "from collections import defaultdict\n",
    "\n",
    "def genderizer(pos):\n",
    "    if pos == 2: return(random.choice([2, 3]))\n",
    "    if pos == 6: return(random.choice([6, 7]))\n",
    "    return(pos)   \n",
    "\n",
    "def pick_pos(k):\n",
    "    options = [0,1,2,4,5,6]\n",
    "    choices = random.sample(options, k=k)\n",
    "    return([str(genderizer(choice)) for choice in choices])\n",
    "\n",
    "for i in range(10):\n",
    "    print(sorted(pick_pos(3)))"
   ]
  },
  {
   "cell_type": "code",
   "execution_count": null,
   "metadata": {},
   "outputs": [],
   "source": [
    "# query a single verb\n",
    "QUERY = '''\n",
    "  select * FROM cards c \n",
    "  WHERE c.verb = '%s'\n",
    "'''\n",
    "conn = sqlite3.connect('/Users/davidp/work/verbe-italiani/data/db/app.db')\n",
    "c = conn.cursor()\n",
    "forms = [row for row in c.execute(QUERY % 'dare')]\n",
    "len(forms)"
   ]
  },
  {
   "cell_type": "code",
   "execution_count": null,
   "metadata": {},
   "outputs": [],
   "source": [
    "# A1 deck\n",
    "QUERY = '''\n",
    "  select a.*, c.ROWID, c.pos, c.verb, c.form, c.conjugation, f.level from cards c\n",
    "  INNER JOIN appdb a ON c.verb = a.verb \n",
    "  INNER JOIN forms f ON f.form = c.form\n",
    "  WHERE c.form = 'INDICATIVO_PASSATO_PROSSIMO' AND a.irregular\n",
    "  ORDER BY a.freq DESC\n",
    "  LIMIT 1\n",
    "  '''\n",
    "\n",
    "QUERY = '''\n",
    "  select a.*, c.ROWID, c.pos, c.verb, c.form, c.conjugation, f.level from cards c\n",
    "  INNER JOIN appdb a ON c.verb = a.verb \n",
    "  INNER JOIN forms f ON f.form = c.form\n",
    "  WHERE c.form = 'INDICATIVO_PASSATO_PROSSIMO' AND a.irregular\n",
    "  ORDER BY a.freq DESC\n",
    "  '''\n",
    "\n",
    "conn = sqlite3.connect('/Users/davidp/work/verbe-italiani/data/db/app.db')\n",
    "c = conn.cursor()\n",
    "results = [row for row in c.execute(QUERY)]\n",
    "results"
   ]
  },
  {
   "cell_type": "code",
   "execution_count": 56,
   "metadata": {},
   "outputs": [
    {
     "data": {
      "text/plain": [
       "[2, 3, 4, 5]"
      ]
     },
     "execution_count": 56,
     "metadata": {},
     "output_type": "execute_result"
    }
   ],
   "source": [
    "x = [x for x in range(20)]\n",
    "x[2:6]"
   ]
  },
  {
   "cell_type": "code",
   "execution_count": 51,
   "metadata": {},
   "outputs": [],
   "source": [
    "QUERY = '''\n",
    "  select c.ROWID, c.verb, c.pos, c.form, c.conjugation, '{level2}' from cards c \n",
    "  WHERE verb = '{verb}' \n",
    "  AND c.form ='{form}'\n",
    "  AND pos IN ({pos})\n",
    "  '''\n",
    "\n",
    "def one_form(c, form, k, start, end, level1):\n",
    "    cards = []\n",
    "    for verb in verbs[start:end]:\n",
    "        pos = pick_pos(k)\n",
    "        q = QUERY.format(verb=verb, form=form, pos=','.join(pos), level2=level1)\n",
    "        for row in c.execute(q):\n",
    "            cards += [row]\n",
    "    return(cards)\n",
    "    \n",
    "\n",
    "conn = sqlite3.connect('/Users/davidp/work/verbe-italiani/data/db/app.db')\n",
    "c = conn.cursor()\n",
    "cards = []\n",
    "# A1 0 - 50\n",
    "cards += one_form(c, 'INDICATIVO_PASSATO_PROSSIMO',    3, 0, 50, \"A1\")\n",
    "cards += one_form(c, 'INDICATIVO_PASSATO_PROSSIMO',    1, 51, 250, \"A2\")\n",
    "cards += one_form(c, 'INDICATIVO_PASSATO_PROSSIMO',    1, 251, 500, \"B1\")\n",
    "cards += one_form(c, 'INDICATIVO_PASSATO_PROSSIMO',    1, 501, 1000, \"B2\")\n",
    "\n",
    "cards += one_form(c, 'INDICATIVO_FUTURO_SEMPLICE',     1, 0, 250, \"A2\")\n",
    "cards += one_form(c, 'INDICATIVO_FUTURO_SEMPLICE',     1, 251, 500, \"A2\")\n",
    "cards += one_form(c, 'INDICATIVO_FUTURO_SEMPLICE',     1, 501, 1000, \"B2\")\n",
    "\n",
    "cards += one_form(c, 'INDICATIVO_IMPERFETTO',          1, 0, 250, \"A2\")\n",
    "cards += one_form(c, 'INDICATIVO_IMPERFETTO',          1, 251, 500, \"B1\")\n",
    "cards += one_form(c, 'INDICATIVO_IMPERFETTO',          1, 501, 1000, \"B2\")\n",
    "\n",
    "cards += one_form(c, 'CONDIZIONALE_PRESENTE',          1, 0, 250, \"A2\")\n",
    "cards += one_form(c, 'CONDIZIONALE_PRESENTE',          1, 251, 500, \"B1\")\n",
    "cards += one_form(c, 'CONDIZIONALE_PRESENTE',          1, 501, 1000, \"B2\")\n",
    "\n",
    "cards += one_form(c, 'CONGIUNTIVO_PRESENTE',           1, 0, 250, \"A2\")\n",
    "cards += one_form(c, 'CONGIUNTIVO_PRESENTE',           1, 251, 500, \"B1\")\n",
    "cards += one_form(c, 'CONGIUNTIVO_PRESENTE',           1, 501, 1000, \"B2\")\n",
    "\n",
    "cards += one_form(c, 'INDICATIVO_TRAPASSATO_PROSSIMO', 1, 0, 500, \"B1\")\n",
    "cards += one_form(c, 'INDICATIVO_TRAPASSATO_PROSSIMO', 1, 501, 1000, \"B2\")\n",
    "\n",
    "cards += one_form(c, 'CONGIUNTIVO_IMPERFETTO',         1, 0, 500, \"B1\")\n",
    "cards += one_form(c, 'CONGIUNTIVO_IMPERFETTO',         1, 501, 1000, \"B2\")\n",
    "\n",
    "cards += one_form(c, 'CONGIUNTIVO_PASSATO',            1, 0, 500, \"B1\")\n",
    "cards += one_form(c, 'CONGIUNTIVO_PASSATO',            1, 501, 1000, \"B2\")\n",
    "\n",
    "cards += one_form(c, 'CONGIUNTIVO_TRAPASSATO',         1, 0, 500, \"B1\")\n",
    "cards += one_form(c, 'CONGIUNTIVO_TRAPASSATO',         1, 501, 1000, \"B2\")\n",
    "\n",
    "cards += one_form(c, 'CONDIZIONALE_PASSATO',           1, 0, 500, \"B1\")\n",
    "cards += one_form(c, 'CONDIZIONALE_PASSATO',           1, 501, 1000, \"B2\")\n",
    "\n",
    "cards += one_form(c, 'INDICATIVO_PASSATO_REMOTO',      1, 0, 1000, \"B2\")\n",
    "cards += one_form(c, 'INDICATIVO_TRAPASSATO_REMOTO',   1, 0, 1000, \"B2\")\n",
    "cards += one_form(c, 'INDICATIVO_FUTURO_ANTERIORE',    1, 0, 1000, \"B2\")"
   ]
  },
  {
   "cell_type": "code",
   "execution_count": 52,
   "metadata": {},
   "outputs": [
    {
     "data": {
      "text/plain": [
       "1350"
      ]
     },
     "execution_count": 52,
     "metadata": {},
     "output_type": "execute_result"
    }
   ],
   "source": [
    "len(cards)"
   ]
  },
  {
   "cell_type": "code",
   "execution_count": null,
   "metadata": {},
   "outputs": [],
   "source": [
    "import urllib\n",
    "url = 'https://conjugator.reverso.net/index-italian-1-250.html'\n",
    "\n",
    "def request_contents(url):\n",
    "    try:\n",
    "        contents = urllib.request.urlopen(url)\n",
    "    except urllib.error.HTTPError:\n",
    "        return (None)\n",
    "    return (contents.read().decode(encoding=\"utf-8\", errors=\"strict\"))"
   ]
  },
  {
   "cell_type": "code",
   "execution_count": null,
   "metadata": {},
   "outputs": [],
   "source": [
    "html = request_contents(url)"
   ]
  },
  {
   "cell_type": "code",
   "execution_count": null,
   "metadata": {},
   "outputs": [],
   "source": [
    "from cmd import Cmd\n",
    "\n",
    "def show_card():\n",
    "    print('''\n",
    "    Presente: io canto\n",
    "    \n",
    "    futuro: io canterò\n",
    "    ''')\n",
    "\n",
    "class MyPrompt(Cmd):\n",
    "    def __init__(self):\n",
    "        super().__init__()\n",
    "        self.counter = 12\n",
    "\n",
    "    def do_increment(self, input):\n",
    "        self.counter += 1\n",
    "        \n",
    "    def do_0(self, input):\n",
    "        self.counter = 0\n",
    "    \n",
    "    def do_card(self, input):\n",
    "        show_card()\n",
    "    \n",
    "    def do_exit(self, inp):\n",
    "        print(\"Bye\", self.counter)\n",
    "        return True\n",
    " \n",
    "    def do_add(self, inp):\n",
    "        print(\"Adding '{}'\".format(inp))\n",
    " \n",
    "MyPrompt().cmdloop()"
   ]
  },
  {
   "cell_type": "code",
   "execution_count": null,
   "metadata": {},
   "outputs": [],
   "source": [
    "import csv\n",
    "from collections import defaultdict\n",
    "import random\n",
    "import os\n",
    "\n",
    "url1 = '/Users/davidp/work/verbe-italiani/data/csvs/top236.csv'\n",
    "\n",
    "forms = [\n",
    "    'Condizionale Passato',\n",
    "    'Condizionale Presente',\n",
    "    'Congiuntivo Imperfetto',\n",
    "    'Congiuntivo Perfetto',\n",
    "    'Congiuntivo Presente',\n",
    "    'Congiuntivo Trapassato',\n",
    "    'Futuro',\n",
    "    'Futuro Anteriore',\n",
    "    'Imperfetto',\n",
    "    'Passato Remoto',\n",
    "    'Perfetto',\n",
    "#    'Presente',\n",
    "    'Trapassato Prossimo'\n",
    "]"
   ]
  },
  {
   "cell_type": "code",
   "execution_count": null,
   "metadata": {},
   "outputs": [],
   "source": []
  },
  {
   "cell_type": "code",
   "execution_count": null,
   "metadata": {},
   "outputs": [],
   "source": [
    "random.choice(range(8))"
   ]
  },
  {
   "cell_type": "code",
   "execution_count": null,
   "metadata": {},
   "outputs": [],
   "source": [
    "def write_full_csv(url, cards):\n",
    "    with open(url, encoding='utf-8', mode='w') as f:\n",
    "        w = csv.writer(f, delimiter=',', quotechar='\"', quoting=csv.QUOTE_ALL)\n",
    "        for card in cards:\n",
    "            w.writerow(card)"
   ]
  },
  {
   "cell_type": "code",
   "execution_count": null,
   "metadata": {},
   "outputs": [],
   "source": [
    "def read_full_csv(url):\n",
    "    db = defaultdict(dict)\n",
    "    with open(url, encoding='utf-8', mode='r') as f:\n",
    "        r = csv.reader(f, delimiter=',', quotechar='\"', quoting=csv.QUOTE_ALL)\n",
    "        for i, row in enumerate(r):\n",
    "            if i == 0:\n",
    "                continue\n",
    "            _, pos, root, form, front, back = row\n",
    "            if not form in db[root].keys():\n",
    "                db[root][form] = ['' for i in range(8)]            \n",
    "            db[root][form][int(pos)] = back\n",
    "    return(db)"
   ]
  },
  {
   "cell_type": "code",
   "execution_count": null,
   "metadata": {},
   "outputs": [],
   "source": [
    "x = 'Abc'\n",
    "'-'.join(x.lower().split(' '))"
   ]
  },
  {
   "cell_type": "code",
   "execution_count": null,
   "metadata": {},
   "outputs": [],
   "source": [
    "def one_form(db, form):\n",
    "    keys = list(db.keys())\n",
    "    random.shuffle(keys)\n",
    "    \n",
    "    cards = []\n",
    "    imperfetto = []\n",
    "    for root in db.keys():\n",
    "        presente = db[root]['Presente']\n",
    "        i = random.choice(range(8))\n",
    "        front = '%s --> %s' %(presente[i], form)\n",
    "        back = db[root][form][i]\n",
    "        cards += [[front, back]]\n",
    "    return(cards)\n",
    "    \n",
    "def main(url):\n",
    "    db = read_full_csv(url1)\n",
    "    for form in forms:\n",
    "        cards = one_form(db, form)\n",
    "        base, ext = os.path.splitext(url)\n",
    "        suffix = '-'.join(form.lower().split(' '))\n",
    "        output = '%s-%s%s' %(base, suffix, ext)\n",
    "        write_full_csv(output, cards)\n",
    "\n",
    "main(url1)"
   ]
  },
  {
   "cell_type": "code",
   "execution_count": null,
   "metadata": {},
   "outputs": [],
   "source": []
  }
 ],
 "metadata": {
  "kernelspec": {
   "display_name": "Python 3",
   "language": "python",
   "name": "python3"
  },
  "language_info": {
   "codemirror_mode": {
    "name": "ipython",
    "version": 3
   },
   "file_extension": ".py",
   "mimetype": "text/x-python",
   "name": "python",
   "nbconvert_exporter": "python",
   "pygments_lexer": "ipython3",
   "version": "3.7.5"
  }
 },
 "nbformat": 4,
 "nbformat_minor": 4
}
