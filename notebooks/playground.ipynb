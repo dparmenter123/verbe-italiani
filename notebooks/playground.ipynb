{
 "cells": [
  {
   "cell_type": "code",
   "execution_count": 1,
   "metadata": {},
   "outputs": [
    {
     "data": {
      "text/plain": [
       "(1974,\n",
       " ['andare', 'aprire', 'avere', 'bere', 'cadere'],\n",
       " ['bluffare', 'spettegolare', 'fraternizzare', 'pomiciare', 'internalizzare'])"
      ]
     },
     "execution_count": 1,
     "metadata": {},
     "output_type": "execute_result"
    }
   ],
   "source": [
    "import sqlite3\n",
    "\n",
    "# all the verbs, ordered\n",
    "QUERY = '''\n",
    "  select a.verb from appdb a\n",
    "  ORDER BY a.freq DESC\n",
    "'''\n",
    "conn = sqlite3.connect('/Users/davidp/work/verbe-italiani/data/db/app.db')\n",
    "c = conn.cursor()\n",
    "verbs = [row[0] for row in c.execute(QUERY)]\n",
    "len(verbs), verbs[:5], verbs[-5:]"
   ]
  },
  {
   "cell_type": "code",
   "execution_count": 2,
   "metadata": {},
   "outputs": [
    {
     "data": {
      "text/plain": [
       "([('farsi',), ('darsi',), ('trovare',), ('trovarsi',), ('vedere',)],\n",
       " [('bluffare',),\n",
       "  ('spettegolare',),\n",
       "  ('fraternizzare',),\n",
       "  ('pomiciare',),\n",
       "  ('internalizzare',)])"
      ]
     },
     "execution_count": 2,
     "metadata": {},
     "output_type": "execute_result"
    }
   ],
   "source": [
    "# just the irregular verbs\n",
    "QUERY = '''\n",
    "  select a.verb from appdb a\n",
    "  WHERE NOT a.irregular\n",
    "  ORDER BY a.freq DESC  \n",
    "'''\n",
    "conn = sqlite3.connect('/Users/davidp/work/verbe-italiani/data/db/app.db')\n",
    "c = conn.cursor()\n",
    "regulars = [row for row in c.execute(QUERY)]\n",
    "regulars[:5], regulars[-5:]"
   ]
  },
  {
   "cell_type": "code",
   "execution_count": 3,
   "metadata": {},
   "outputs": [
    {
     "data": {
      "text/plain": [
       "(['andare', 'aprire', 'avere', 'bere', 'cadere'],\n",
       " ['stare', 'tradurre', 'uscire', 'venire', 'volere'])"
      ]
     },
     "execution_count": 3,
     "metadata": {},
     "output_type": "execute_result"
    }
   ],
   "source": [
    "# just the irregular verbs\n",
    "QUERY = '''\n",
    "  select a.verb from appdb a\n",
    "  WHERE a.irregular\n",
    "  ORDER BY a.freq DESC  \n",
    "'''\n",
    "conn = sqlite3.connect('/Users/davidp/work/verbe-italiani/data/db/app.db')\n",
    "c = conn.cursor()\n",
    "irregulars = [row[0] for row in c.execute(QUERY)]\n",
    "irregulars[:5], irregulars[-5:]"
   ]
  },
  {
   "cell_type": "code",
   "execution_count": 10,
   "metadata": {},
   "outputs": [
    {
     "name": "stdout",
     "output_type": "stream",
     "text": [
      "['1', '3', '6']\n",
      "['0', '3', '6']\n",
      "['1', '4', '7']\n",
      "['1', '3', '4']\n",
      "['0', '1', '4']\n",
      "['0', '1', '2']\n",
      "['1', '3', '5']\n",
      "['0', '1', '7']\n",
      "['0', '4', '6']\n",
      "['3', '4', '5']\n"
     ]
    }
   ],
   "source": [
    "import random\n",
    "from collections import defaultdict\n",
    "\n",
    "def genderizer(pos):\n",
    "    if pos == 2: return(random.choice([2, 3]))\n",
    "    if pos == 6: return(random.choice([6, 7]))\n",
    "    return(pos)   \n",
    "\n",
    "def pick_pos(k):\n",
    "    options = [0,1,2,4,5,6]\n",
    "    choices = random.sample(options, k=k)\n",
    "    return([str(genderizer(choice)) for choice in choices])\n",
    "\n",
    "for i in range(10):\n",
    "    print(sorted(pick_pos(3)))"
   ]
  },
  {
   "cell_type": "code",
   "execution_count": null,
   "metadata": {},
   "outputs": [],
   "source": [
    "# query a single verb\n",
    "QUERY = '''\n",
    "  select * FROM cards c \n",
    "  WHERE c.verb = '%s'\n",
    "'''\n",
    "conn = sqlite3.connect('/Users/davidp/work/verbe-italiani/data/db/app.db')\n",
    "c = conn.cursor()\n",
    "forms = [row for row in c.execute(QUERY % 'dare')]\n",
    "len(forms)"
   ]
  },
  {
   "cell_type": "code",
   "execution_count": null,
   "metadata": {},
   "outputs": [],
   "source": [
    "# A1 deck\n",
    "QUERY = '''\n",
    "  select a.*, c.ROWID, c.pos, c.verb, c.form, c.conjugation, f.level from cards c\n",
    "  INNER JOIN appdb a ON c.verb = a.verb \n",
    "  INNER JOIN forms f ON f.form = c.form\n",
    "  WHERE c.form = 'INDICATIVO_PASSATO_PROSSIMO' AND a.irregular\n",
    "  ORDER BY a.freq DESC\n",
    "  LIMIT 1\n",
    "  '''\n",
    "\n",
    "QUERY = '''\n",
    "  select a.*, c.ROWID, c.pos, c.verb, c.form, c.conjugation, f.level from cards c\n",
    "  INNER JOIN appdb a ON c.verb = a.verb \n",
    "  INNER JOIN forms f ON f.form = c.form\n",
    "  WHERE c.form = 'INDICATIVO_PASSATO_PROSSIMO' AND a.irregular\n",
    "  ORDER BY a.freq DESC\n",
    "  '''\n",
    "\n",
    "conn = sqlite3.connect('/Users/davidp/work/verbe-italiani/data/db/app.db')\n",
    "c = conn.cursor()\n",
    "results = [row for row in c.execute(QUERY)]\n",
    "results"
   ]
  },
  {
   "cell_type": "code",
   "execution_count": 17,
   "metadata": {},
   "outputs": [
    {
     "data": {
      "text/plain": [
       "[('andare', 0, 'INDICATIVO_PASSATO_PROSSIMO', 'io sono andato'),\n",
       " ('andare', 1, 'INDICATIVO_PASSATO_PROSSIMO', 'tu sei andato'),\n",
       " ('andare', 5, 'INDICATIVO_PASSATO_PROSSIMO', 'voi siete andati'),\n",
       " ('aprire', 0, 'INDICATIVO_PASSATO_PROSSIMO', 'io ho aperto'),\n",
       " ('aprire', 1, 'INDICATIVO_PASSATO_PROSSIMO', 'tu hai aperto'),\n",
       " ('aprire', 5, 'INDICATIVO_PASSATO_PROSSIMO', 'voi avete aperto'),\n",
       " ('avere', 1, 'INDICATIVO_PASSATO_PROSSIMO', 'tu hai avuto'),\n",
       " ('avere', 3, 'INDICATIVO_PASSATO_PROSSIMO', 'lei ha avuto'),\n",
       " ('avere', 6, 'INDICATIVO_PASSATO_PROSSIMO', 'loro(m) hanno avuto'),\n",
       " ('bere', 0, 'INDICATIVO_PASSATO_PROSSIMO', 'io ho bevuto'),\n",
       " ('bere', 1, 'INDICATIVO_PASSATO_PROSSIMO', 'tu hai bevuto'),\n",
       " ('bere', 7, 'INDICATIVO_PASSATO_PROSSIMO', 'loro(f) hanno bevuto'),\n",
       " ('cadere', 1, 'INDICATIVO_PASSATO_PROSSIMO', 'tu sei caduto'),\n",
       " ('cadere', 4, 'INDICATIVO_PASSATO_PROSSIMO', 'noi siamo caduti'),\n",
       " ('cadere', 6, 'INDICATIVO_PASSATO_PROSSIMO', 'loro sono caduti'),\n",
       " ('conoscere', 4, 'INDICATIVO_PASSATO_PROSSIMO', 'noi abbiamo conosciuto'),\n",
       " ('conoscere', 5, 'INDICATIVO_PASSATO_PROSSIMO', 'voi avete conosciuto'),\n",
       " ('conoscere', 6, 'INDICATIVO_PASSATO_PROSSIMO', 'loro(m) hanno conosciuto'),\n",
       " ('dare', 0, 'INDICATIVO_PASSATO_PROSSIMO', 'io ho dato'),\n",
       " ('dare', 5, 'INDICATIVO_PASSATO_PROSSIMO', 'voi avete dato'),\n",
       " ('dare', 6, 'INDICATIVO_PASSATO_PROSSIMO', 'loro(m) hanno dato'),\n",
       " ('dire', 1, 'INDICATIVO_PASSATO_PROSSIMO', 'tu hai detto'),\n",
       " ('dire', 4, 'INDICATIVO_PASSATO_PROSSIMO', 'noi abbiamo detto'),\n",
       " ('dire', 5, 'INDICATIVO_PASSATO_PROSSIMO', 'voi avete detto'),\n",
       " ('dovere', 0, 'INDICATIVO_PASSATO_PROSSIMO', 'io ho dovuto'),\n",
       " ('dovere', 2, 'INDICATIVO_PASSATO_PROSSIMO', 'lui ha dovuto'),\n",
       " ('dovere', 4, 'INDICATIVO_PASSATO_PROSSIMO', 'noi abbiamo dovuto'),\n",
       " ('essere', 2, 'INDICATIVO_PASSATO_PROSSIMO', 'lui è stato'),\n",
       " ('essere', 4, 'INDICATIVO_PASSATO_PROSSIMO', 'noi siamo stati'),\n",
       " ('essere', 5, 'INDICATIVO_PASSATO_PROSSIMO', 'voi siete stati'),\n",
       " ('fare', 0, 'INDICATIVO_PASSATO_PROSSIMO', 'io ho fatto'),\n",
       " ('fare', 1, 'INDICATIVO_PASSATO_PROSSIMO', 'tu hai fatto'),\n",
       " ('fare', 5, 'INDICATIVO_PASSATO_PROSSIMO', 'voi avete fatto'),\n",
       " ('potere', 1, 'INDICATIVO_PASSATO_PROSSIMO', 'tu hai potuto / tu sei potuto'),\n",
       " ('potere',\n",
       "  2,\n",
       "  'INDICATIVO_PASSATO_PROSSIMO',\n",
       "  'lui ha potuto / lei/lui è potuta'),\n",
       " ('potere',\n",
       "  4,\n",
       "  'INDICATIVO_PASSATO_PROSSIMO',\n",
       "  'noi abbiamo potuto / noi siamo potuti'),\n",
       " ('salire', 0, 'INDICATIVO_PASSATO_PROSSIMO', 'io ho salito / io sono salito'),\n",
       " ('salire', 1, 'INDICATIVO_PASSATO_PROSSIMO', 'tu hai salito / tu sei salito'),\n",
       " ('salire',\n",
       "  4,\n",
       "  'INDICATIVO_PASSATO_PROSSIMO',\n",
       "  'noi abbiamo salito / noi siamo saliti'),\n",
       " ('sapere', 2, 'INDICATIVO_PASSATO_PROSSIMO', 'lui ha saputo'),\n",
       " ('sapere', 4, 'INDICATIVO_PASSATO_PROSSIMO', 'noi abbiamo saputo'),\n",
       " ('sapere', 6, 'INDICATIVO_PASSATO_PROSSIMO', 'loro(m) hanno saputo'),\n",
       " ('stare', 0, 'INDICATIVO_PASSATO_PROSSIMO', 'io sono stato'),\n",
       " ('stare', 3, 'INDICATIVO_PASSATO_PROSSIMO', 'lei è stata'),\n",
       " ('stare', 5, 'INDICATIVO_PASSATO_PROSSIMO', 'voi siete stati'),\n",
       " ('tradurre', 0, 'INDICATIVO_PASSATO_PROSSIMO', 'io ho tradotto'),\n",
       " ('tradurre', 3, 'INDICATIVO_PASSATO_PROSSIMO', 'lei ha tradotto'),\n",
       " ('tradurre', 4, 'INDICATIVO_PASSATO_PROSSIMO', 'noi abbiamo tradotto'),\n",
       " ('uscire', 4, 'INDICATIVO_PASSATO_PROSSIMO', 'noi siamo usciti'),\n",
       " ('uscire', 5, 'INDICATIVO_PASSATO_PROSSIMO', 'voi siete usciti'),\n",
       " ('uscire', 6, 'INDICATIVO_PASSATO_PROSSIMO', 'loro sono usciti'),\n",
       " ('venire', 3, 'INDICATIVO_PASSATO_PROSSIMO', 'lei è venuta'),\n",
       " ('venire', 5, 'INDICATIVO_PASSATO_PROSSIMO', 'voi siete venuti'),\n",
       " ('venire', 6, 'INDICATIVO_PASSATO_PROSSIMO', 'loro sono venuti'),\n",
       " ('volere', 1, 'INDICATIVO_PASSATO_PROSSIMO', 'tu hai voluto'),\n",
       " ('volere', 4, 'INDICATIVO_PASSATO_PROSSIMO', 'noi abbiamo voluto'),\n",
       " ('volere', 6, 'INDICATIVO_PASSATO_PROSSIMO', 'loro(m) hanno voluto'),\n",
       " ('farsi', 0, 'INDICATIVO_PASSATO_PROSSIMO', 'io mi sono fatto'),\n",
       " ('farsi', 1, 'INDICATIVO_PASSATO_PROSSIMO', 'tu ti sei fatto'),\n",
       " ('farsi', 2, 'INDICATIVO_PASSATO_PROSSIMO', 'lui si è fatto'),\n",
       " ('darsi', 1, 'INDICATIVO_PASSATO_PROSSIMO', 'tu ti sei dato'),\n",
       " ('darsi', 2, 'INDICATIVO_PASSATO_PROSSIMO', 'lui si è dato'),\n",
       " ('darsi', 5, 'INDICATIVO_PASSATO_PROSSIMO', 'voi vi siete dati'),\n",
       " ('trovare', 0, 'INDICATIVO_PASSATO_PROSSIMO', 'io ho trovato'),\n",
       " ('trovare', 2, 'INDICATIVO_PASSATO_PROSSIMO', 'lui ha trovato'),\n",
       " ('trovare', 5, 'INDICATIVO_PASSATO_PROSSIMO', 'voi avete trovato'),\n",
       " ('trovarsi', 1, 'INDICATIVO_PASSATO_PROSSIMO', 'tu ti sei trovato'),\n",
       " ('trovarsi', 5, 'INDICATIVO_PASSATO_PROSSIMO', 'voi vi siete trovati'),\n",
       " ('trovarsi', 7, 'INDICATIVO_PASSATO_PROSSIMO', 'loro si sono trovate'),\n",
       " ('vedere', 1, 'INDICATIVO_PASSATO_PROSSIMO', 'tu hai visto/eduto'),\n",
       " ('vedere', 4, 'INDICATIVO_PASSATO_PROSSIMO', 'noi abbiamo visto/eduto'),\n",
       " ('vedere', 7, 'INDICATIVO_PASSATO_PROSSIMO', 'loro(f) hanno visto/eduto'),\n",
       " ('vedersi', 0, 'INDICATIVO_PASSATO_PROSSIMO', 'io mi sono visto/veduto'),\n",
       " ('vedersi', 1, 'INDICATIVO_PASSATO_PROSSIMO', 'tu ti sei visto/veduto'),\n",
       " ('vedersi', 5, 'INDICATIVO_PASSATO_PROSSIMO', 'voi vi siete visti'),\n",
       " ('mettere', 3, 'INDICATIVO_PASSATO_PROSSIMO', 'lei ha messo'),\n",
       " ('mettere', 4, 'INDICATIVO_PASSATO_PROSSIMO', 'noi abbiamo messo'),\n",
       " ('mettere', 6, 'INDICATIVO_PASSATO_PROSSIMO', 'loro(m) hanno messo'),\n",
       " ('mettersi', 2, 'INDICATIVO_PASSATO_PROSSIMO', 'lui si è messo'),\n",
       " ('mettersi', 4, 'INDICATIVO_PASSATO_PROSSIMO', 'noi ci siamo messi'),\n",
       " ('mettersi', 7, 'INDICATIVO_PASSATO_PROSSIMO', 'loro si sono messe'),\n",
       " ('scrivere', 1, 'INDICATIVO_PASSATO_PROSSIMO', 'tu hai scritto'),\n",
       " ('scrivere', 5, 'INDICATIVO_PASSATO_PROSSIMO', 'voi avete scritto'),\n",
       " ('scrivere', 6, 'INDICATIVO_PASSATO_PROSSIMO', 'loro(m) hanno scritto'),\n",
       " ('scriversi', 2, 'INDICATIVO_PASSATO_PROSSIMO', 'lui si è scritto'),\n",
       " ('scriversi', 4, 'INDICATIVO_PASSATO_PROSSIMO', 'noi ci siamo scritti'),\n",
       " ('scriversi', 5, 'INDICATIVO_PASSATO_PROSSIMO', 'voi vi siete scritti'),\n",
       " ('presentare', 0, 'INDICATIVO_PASSATO_PROSSIMO', 'io ho presentato'),\n",
       " ('presentare', 4, 'INDICATIVO_PASSATO_PROSSIMO', 'noi abbiamo presentato'),\n",
       " ('presentare', 6, 'INDICATIVO_PASSATO_PROSSIMO', 'loro(m) hanno presentato'),\n",
       " ('presentarsi', 1, 'INDICATIVO_PASSATO_PROSSIMO', 'tu ti sei presentato'),\n",
       " ('presentarsi', 2, 'INDICATIVO_PASSATO_PROSSIMO', 'lui si è presentato'),\n",
       " ('presentarsi', 7, 'INDICATIVO_PASSATO_PROSSIMO', 'loro si sono presentate'),\n",
       " ('parlare', 0, 'INDICATIVO_PASSATO_PROSSIMO', 'io ho parlato'),\n",
       " ('parlare', 1, 'INDICATIVO_PASSATO_PROSSIMO', 'tu hai parlato'),\n",
       " ('parlare', 4, 'INDICATIVO_PASSATO_PROSSIMO', 'noi abbiamo parlato'),\n",
       " ('pensare', 2, 'INDICATIVO_PASSATO_PROSSIMO', 'lui ha pensato'),\n",
       " ('pensare', 4, 'INDICATIVO_PASSATO_PROSSIMO', 'noi abbiamo pensato'),\n",
       " ('pensare', 7, 'INDICATIVO_PASSATO_PROSSIMO', 'loro(f) hanno pensato'),\n",
       " ('prendere', 0, 'INDICATIVO_PASSATO_PROSSIMO', 'io ho preso'),\n",
       " ('prendere', 2, 'INDICATIVO_PASSATO_PROSSIMO', 'lui ha preso'),\n",
       " ('prendere', 5, 'INDICATIVO_PASSATO_PROSSIMO', 'voi avete preso'),\n",
       " ('chiedere', 0, 'INDICATIVO_PASSATO_PROSSIMO', 'io ho chiesto'),\n",
       " ('chiedere', 2, 'INDICATIVO_PASSATO_PROSSIMO', 'lui ha chiesto'),\n",
       " ('chiedere', 7, 'INDICATIVO_PASSATO_PROSSIMO', 'loro(f) hanno chiesto'),\n",
       " ('chiedersi', 0, 'INDICATIVO_PASSATO_PROSSIMO', 'io mi sono chiesto'),\n",
       " ('chiedersi', 1, 'INDICATIVO_PASSATO_PROSSIMO', 'tu ti sei chiesto'),\n",
       " ('chiedersi', 5, 'INDICATIVO_PASSATO_PROSSIMO', 'voi vi siete chiesti'),\n",
       " ('tenere', 4, 'INDICATIVO_PASSATO_PROSSIMO', 'noi abbiamo tenuto'),\n",
       " ('tenere', 5, 'INDICATIVO_PASSATO_PROSSIMO', 'voi avete tenuto'),\n",
       " ('tenere', 6, 'INDICATIVO_PASSATO_PROSSIMO', 'loro(m) hanno tenuto'),\n",
       " ('portare', 1, 'INDICATIVO_PASSATO_PROSSIMO', 'tu hai portato'),\n",
       " ('portare', 4, 'INDICATIVO_PASSATO_PROSSIMO', 'noi abbiamo portato'),\n",
       " ('portare', 5, 'INDICATIVO_PASSATO_PROSSIMO', 'voi avete portato'),\n",
       " ('rendere', 2, 'INDICATIVO_PASSATO_PROSSIMO', 'lui ha reso'),\n",
       " ('rendere', 5, 'INDICATIVO_PASSATO_PROSSIMO', 'voi avete reso'),\n",
       " ('rendere', 7, 'INDICATIVO_PASSATO_PROSSIMO', 'loro(f) hanno reso'),\n",
       " ('rendersi', 0, 'INDICATIVO_PASSATO_PROSSIMO', 'io mi sono reso'),\n",
       " ('rendersi', 4, 'INDICATIVO_PASSATO_PROSSIMO', 'noi ci siamo resi'),\n",
       " ('rendersi', 6, 'INDICATIVO_PASSATO_PROSSIMO', 'loro si sono resi'),\n",
       " ('sembrare', 0, 'INDICATIVO_PASSATO_PROSSIMO', 'io sono sembrato'),\n",
       " ('sembrare', 1, 'INDICATIVO_PASSATO_PROSSIMO', 'tu sei sembrato'),\n",
       " ('sembrare', 5, 'INDICATIVO_PASSATO_PROSSIMO', 'voi siete sembrati'),\n",
       " ('trattare', 0, 'INDICATIVO_PASSATO_PROSSIMO', 'io ho trattato'),\n",
       " ('trattare', 5, 'INDICATIVO_PASSATO_PROSSIMO', 'voi avete trattato'),\n",
       " ('trattare', 6, 'INDICATIVO_PASSATO_PROSSIMO', 'loro(m) hanno trattato'),\n",
       " ('cercare', 0, 'INDICATIVO_PASSATO_PROSSIMO', 'io ho cercato'),\n",
       " ('cercare', 4, 'INDICATIVO_PASSATO_PROSSIMO', 'noi abbiamo cercato'),\n",
       " ('cercare', 6, 'INDICATIVO_PASSATO_PROSSIMO', 'loro(m) hanno cercato'),\n",
       " ('arrivare', 4, 'INDICATIVO_PASSATO_PROSSIMO', 'noi siamo arrivati'),\n",
       " ('arrivare', 5, 'INDICATIVO_PASSATO_PROSSIMO', 'voi siete arrivati'),\n",
       " ('arrivare', 6, 'INDICATIVO_PASSATO_PROSSIMO', 'loro sono arrivati'),\n",
       " ('sentire', 0, 'INDICATIVO_PASSATO_PROSSIMO', 'io ho sentito'),\n",
       " ('sentire', 4, 'INDICATIVO_PASSATO_PROSSIMO', 'noi abbiamo sentito'),\n",
       " ('sentire', 5, 'INDICATIVO_PASSATO_PROSSIMO', 'voi avete sentito'),\n",
       " ('sentirsi', 1, 'INDICATIVO_PASSATO_PROSSIMO', 'tu ti sei sentito'),\n",
       " ('sentirsi', 3, 'INDICATIVO_PASSATO_PROSSIMO', 'lei si è sentita'),\n",
       " ('sentirsi', 4, 'INDICATIVO_PASSATO_PROSSIMO', 'noi ci siamo sentiti'),\n",
       " ('svolgere', 0, 'INDICATIVO_PASSATO_PROSSIMO', 'io ho svolto'),\n",
       " ('svolgere', 1, 'INDICATIVO_PASSATO_PROSSIMO', 'tu hai svolto'),\n",
       " ('svolgere', 2, 'INDICATIVO_PASSATO_PROSSIMO', 'lui ha svolto'),\n",
       " ('credere', 0, 'INDICATIVO_PASSATO_PROSSIMO', 'io ho creduto'),\n",
       " ('credere', 1, 'INDICATIVO_PASSATO_PROSSIMO', 'tu hai creduto'),\n",
       " ('credere', 4, 'INDICATIVO_PASSATO_PROSSIMO', 'noi abbiamo creduto'),\n",
       " ('inviare', 0, 'INDICATIVO_PASSATO_PROSSIMO', 'io ho inviato'),\n",
       " ('inviare', 1, 'INDICATIVO_PASSATO_PROSSIMO', 'tu hai inviato'),\n",
       " ('inviare', 5, 'INDICATIVO_PASSATO_PROSSIMO', 'voi avete inviato'),\n",
       " ('ricordare', 2, 'INDICATIVO_PASSATO_PROSSIMO', 'lui ha ricordato'),\n",
       " ('ricordare', 5, 'INDICATIVO_PASSATO_PROSSIMO', 'voi avete ricordato'),\n",
       " ('ricordare', 6, 'INDICATIVO_PASSATO_PROSSIMO', 'loro(m) hanno ricordato')]"
      ]
     },
     "execution_count": 17,
     "metadata": {},
     "output_type": "execute_result"
    }
   ],
   "source": [
    "QUERY = '''\n",
    "  select * from cards where verb = '{verb}' \n",
    "  AND form ='{form}'\n",
    "  AND pos IN ({pos})\n",
    "  '''\n",
    "\n",
    "conn = sqlite3.connect('/Users/davidp/work/verbe-italiani/data/db/app.db')\n",
    "c = conn.cursor()\n",
    "cards = []\n",
    "for verb in verbs[:50]:\n",
    "    pos = pick_pos(3)\n",
    "    for row in c.execute(QUERY.format(verb=verb, form='INDICATIVO_PASSATO_PROSSIMO',\n",
    "                                      pos=','.join(pos))):\n",
    "        cards += [row]\n",
    "cards"
   ]
  },
  {
   "cell_type": "code",
   "execution_count": 9,
   "metadata": {},
   "outputs": [
    {
     "data": {
      "text/plain": [
       "'0,1,2,3,4'"
      ]
     },
     "execution_count": 9,
     "metadata": {},
     "output_type": "execute_result"
    }
   ],
   "source": [
    "','.join([str(i) for i in range(5)])"
   ]
  },
  {
   "cell_type": "code",
   "execution_count": null,
   "metadata": {},
   "outputs": [],
   "source": [
    "import urllib\n",
    "url = 'https://conjugator.reverso.net/index-italian-1-250.html'\n",
    "\n",
    "def request_contents(url):\n",
    "    try:\n",
    "        contents = urllib.request.urlopen(url)\n",
    "    except urllib.error.HTTPError:\n",
    "        return (None)\n",
    "    return (contents.read().decode(encoding=\"utf-8\", errors=\"strict\"))"
   ]
  },
  {
   "cell_type": "code",
   "execution_count": null,
   "metadata": {},
   "outputs": [],
   "source": [
    "html = request_contents(url)"
   ]
  },
  {
   "cell_type": "code",
   "execution_count": null,
   "metadata": {},
   "outputs": [],
   "source": [
    "from cmd import Cmd\n",
    "\n",
    "def show_card():\n",
    "    print('''\n",
    "    Presente: io canto\n",
    "    \n",
    "    futuro: io canterò\n",
    "    ''')\n",
    "\n",
    "class MyPrompt(Cmd):\n",
    "    def __init__(self):\n",
    "        super().__init__()\n",
    "        self.counter = 12\n",
    "\n",
    "    def do_increment(self, input):\n",
    "        self.counter += 1\n",
    "        \n",
    "    def do_0(self, input):\n",
    "        self.counter = 0\n",
    "    \n",
    "    def do_card(self, input):\n",
    "        show_card()\n",
    "    \n",
    "    def do_exit(self, inp):\n",
    "        print(\"Bye\", self.counter)\n",
    "        return True\n",
    " \n",
    "    def do_add(self, inp):\n",
    "        print(\"Adding '{}'\".format(inp))\n",
    " \n",
    "MyPrompt().cmdloop()"
   ]
  },
  {
   "cell_type": "code",
   "execution_count": null,
   "metadata": {},
   "outputs": [],
   "source": [
    "import csv\n",
    "from collections import defaultdict\n",
    "import random\n",
    "import os\n",
    "\n",
    "url1 = '/Users/davidp/work/verbe-italiani/data/csvs/top236.csv'\n",
    "\n",
    "forms = [\n",
    "    'Condizionale Passato',\n",
    "    'Condizionale Presente',\n",
    "    'Congiuntivo Imperfetto',\n",
    "    'Congiuntivo Perfetto',\n",
    "    'Congiuntivo Presente',\n",
    "    'Congiuntivo Trapassato',\n",
    "    'Futuro',\n",
    "    'Futuro Anteriore',\n",
    "    'Imperfetto',\n",
    "    'Passato Remoto',\n",
    "    'Perfetto',\n",
    "#    'Presente',\n",
    "    'Trapassato Prossimo'\n",
    "]"
   ]
  },
  {
   "cell_type": "code",
   "execution_count": null,
   "metadata": {},
   "outputs": [],
   "source": []
  },
  {
   "cell_type": "code",
   "execution_count": null,
   "metadata": {},
   "outputs": [],
   "source": [
    "random.choice(range(8))"
   ]
  },
  {
   "cell_type": "code",
   "execution_count": null,
   "metadata": {},
   "outputs": [],
   "source": [
    "def write_full_csv(url, cards):\n",
    "    with open(url, encoding='utf-8', mode='w') as f:\n",
    "        w = csv.writer(f, delimiter=',', quotechar='\"', quoting=csv.QUOTE_ALL)\n",
    "        for card in cards:\n",
    "            w.writerow(card)"
   ]
  },
  {
   "cell_type": "code",
   "execution_count": null,
   "metadata": {},
   "outputs": [],
   "source": [
    "def read_full_csv(url):\n",
    "    db = defaultdict(dict)\n",
    "    with open(url, encoding='utf-8', mode='r') as f:\n",
    "        r = csv.reader(f, delimiter=',', quotechar='\"', quoting=csv.QUOTE_ALL)\n",
    "        for i, row in enumerate(r):\n",
    "            if i == 0:\n",
    "                continue\n",
    "            _, pos, root, form, front, back = row\n",
    "            if not form in db[root].keys():\n",
    "                db[root][form] = ['' for i in range(8)]            \n",
    "            db[root][form][int(pos)] = back\n",
    "    return(db)"
   ]
  },
  {
   "cell_type": "code",
   "execution_count": null,
   "metadata": {},
   "outputs": [],
   "source": [
    "x = 'Abc'\n",
    "'-'.join(x.lower().split(' '))"
   ]
  },
  {
   "cell_type": "code",
   "execution_count": null,
   "metadata": {},
   "outputs": [],
   "source": [
    "def one_form(db, form):\n",
    "    keys = list(db.keys())\n",
    "    random.shuffle(keys)\n",
    "    \n",
    "    cards = []\n",
    "    imperfetto = []\n",
    "    for root in db.keys():\n",
    "        presente = db[root]['Presente']\n",
    "        i = random.choice(range(8))\n",
    "        front = '%s --> %s' %(presente[i], form)\n",
    "        back = db[root][form][i]\n",
    "        cards += [[front, back]]\n",
    "    return(cards)\n",
    "    \n",
    "def main(url):\n",
    "    db = read_full_csv(url1)\n",
    "    for form in forms:\n",
    "        cards = one_form(db, form)\n",
    "        base, ext = os.path.splitext(url)\n",
    "        suffix = '-'.join(form.lower().split(' '))\n",
    "        output = '%s-%s%s' %(base, suffix, ext)\n",
    "        write_full_csv(output, cards)\n",
    "\n",
    "main(url1)"
   ]
  },
  {
   "cell_type": "code",
   "execution_count": null,
   "metadata": {},
   "outputs": [],
   "source": []
  }
 ],
 "metadata": {
  "kernelspec": {
   "display_name": "Python 3",
   "language": "python",
   "name": "python3"
  },
  "language_info": {
   "codemirror_mode": {
    "name": "ipython",
    "version": 3
   },
   "file_extension": ".py",
   "mimetype": "text/x-python",
   "name": "python",
   "nbconvert_exporter": "python",
   "pygments_lexer": "ipython3",
   "version": "3.7.5"
  }
 },
 "nbformat": 4,
 "nbformat_minor": 4
}
