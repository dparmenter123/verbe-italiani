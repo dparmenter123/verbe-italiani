{
 "cells": [
  {
   "cell_type": "code",
   "execution_count": null,
   "metadata": {},
   "outputs": [],
   "source": [
    "import sqlite3\n",
    "\n",
    "conn = sqlite3.connect('/Users/davidp/work/verbe-italiani/data/db/app.db')\n",
    "c = conn.cursor()"
   ]
  },
  {
   "cell_type": "code",
   "execution_count": 48,
   "metadata": {},
   "outputs": [],
   "source": [
    "import enum\n",
    "import queue\n",
    "from transitions import Machine\n",
    "\n",
    "TODAY = 0\n",
    "class Card:\n",
    "    def __init__(self, section, id, repetitions=0, interval=1, easiness=2.5, next_practice=0):\n",
    "        self.section = section\n",
    "        self.id = id\n",
    "        self.repetitions = repetitions\n",
    "        self.interval = interval\n",
    "        self.easiness = easiness\n",
    "        self.next_practice = next_practice\n",
    "        \n",
    "CARD_DECK = [\n",
    "    Card('section 1', 1),\n",
    "    Card('section 1', 2),\n",
    "    Card('section 2', 3),\n",
    "    Card('section 3', 4),\n",
    "    Card('section 4', 5),\n",
    "    Card('section 4', 6),\n",
    "    Card('section 4', 7),\n",
    "]\n",
    "\n",
    "class Proto3Model(object):\n",
    "    def __init__(self, cursor, level):\n",
    "        self.cursor = cursor\n",
    "        self.level = level\n",
    "        self.todo = queue.SimpleQueue()\n",
    "        self.redo = queue.SimpleQueue()\n",
    "        self.card = None\n",
    "        \n",
    "    def on_enter_BUILD(self):\n",
    "        print('building!')\n",
    "        self.homeview()\n",
    "        \n",
    "    def on_enter_HOME_VIEW(self):\n",
    "        print('homeview...')\n",
    "        \n",
    "    def on_enter_ANY_TO_STUDY(self):\n",
    "        print('any to study?')\n",
    "        if 0:\n",
    "            self.any_to_study_no()\n",
    "        else:\n",
    "            self.any_to_study_yes()\n",
    "        \n",
    "    def on_enter_DONE(self):\n",
    "        print('done!')\n",
    "        \n",
    "    def on_enter_SECTION_VIEW(self):\n",
    "        print('Section view!')\n",
    "        \n",
    "    def on_enter_FRONT_VIEW(self):\n",
    "        print('Front view!')\n",
    "        \n",
    "    def on_enter_BACK_VIEW(self):\n",
    "        print('Back view!')\n",
    "        \n",
    "    def on_enter_WRONG(self):\n",
    "        print('WRONG!')\n",
    "        \n",
    "    def on_enter_CORRECT(self):\n",
    "        print('CORRECT!')\n",
    "\n",
    "model = Proto3Model('cursor', 'A1')"
   ]
  },
  {
   "cell_type": "code",
   "execution_count": 52,
   "metadata": {},
   "outputs": [],
   "source": [
    "# The states\n",
    "class States(enum.Enum):\n",
    "    ERROR = 0\n",
    "    START = 1\n",
    "    BUILD = 2\n",
    "    HOME_VIEW = 3\n",
    "    ANY_TO_STUDY = 4\n",
    "    SECTION_VIEW = 5\n",
    "    FRONT_VIEW = 6\n",
    "    BACK_VIEW = 7\n",
    "    CORRECT = 8\n",
    "    WRONG = 9\n",
    "    DONE = 99\n",
    "\n",
    "# And some transitions between states. We're lazy, so we'll leave out\n",
    "# the inverse phase transitions (freezing, condensation, etc.).\n",
    "transitions = [\n",
    "    [ 'build', States.START, States.BUILD ],\n",
    "    [ 'homeview', States.BUILD, States.HOME_VIEW ],\n",
    "    [ 'study', States.HOME_VIEW, States.ANY_TO_STUDY ],\n",
    "    [ 'any_to_study_no', States.ANY_TO_STUDY, States.DONE ],\n",
    "    [ 'any_to_study_yes', States.ANY_TO_STUDY, States.SECTION_VIEW ],\n",
    "    [ 'front', States.SECTION_VIEW, States.FRONT_VIEW ],\n",
    "    [ 'flip', States.FRONT_VIEW, States.BACK_VIEW ],\n",
    "    [ 'flip_back', States.BACK_VIEW, States.FRONT_VIEW ],\n",
    "    [ 'home1', States.SECTION_VIEW, States.HOME_VIEW],\n",
    "    [ 'home2', States.FRONT_VIEW, States.HOME_VIEW],\n",
    "    [ 'wrong', States.BACK_VIEW, States.WRONG],\n",
    "    [ 'correct', States.BACK_VIEW, States.CORRECT],\n",
    "]\n",
    "\n",
    "# Initialize\n",
    "#machine.state"
   ]
  },
  {
   "cell_type": "code",
   "execution_count": 53,
   "metadata": {},
   "outputs": [
    {
     "name": "stdout",
     "output_type": "stream",
     "text": [
      "States.START\n",
      "building!\n",
      "homeview...\n",
      "any to study?\n",
      "Section view!\n",
      "Front view!\n",
      "Back view!\n",
      "Front view!\n",
      "Back view!\n",
      "CORRECT!\n"
     ]
    },
    {
     "data": {
      "text/plain": [
       "True"
      ]
     },
     "execution_count": 53,
     "metadata": {},
     "output_type": "execute_result"
    }
   ],
   "source": [
    "machine = Machine(model, states=States, transitions=transitions, initial=States.START)\n",
    "print(model.state)\n",
    "model.build()\n",
    "model.study()\n",
    "model.front()\n",
    "model.flip()\n",
    "model.flip_back()\n",
    "model.flip()\n",
    "model.correct()\n"
   ]
  },
  {
   "cell_type": "code",
   "execution_count": null,
   "metadata": {},
   "outputs": [],
   "source": []
  },
  {
   "cell_type": "code",
   "execution_count": null,
   "metadata": {},
   "outputs": [],
   "source": []
  }
 ],
 "metadata": {
  "kernelspec": {
   "display_name": "Python 3",
   "language": "python",
   "name": "python3"
  },
  "language_info": {
   "codemirror_mode": {
    "name": "ipython",
    "version": 3
   },
   "file_extension": ".py",
   "mimetype": "text/x-python",
   "name": "python",
   "nbconvert_exporter": "python",
   "pygments_lexer": "ipython3",
   "version": "3.7.5"
  }
 },
 "nbformat": 4,
 "nbformat_minor": 4
}
