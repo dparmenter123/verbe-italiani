{
 "cells": [
  {
   "cell_type": "code",
   "execution_count": null,
   "metadata": {},
   "outputs": [],
   "source": [
    "import sqlite3\n",
    "\n",
    "conn = sqlite3.connect('/Users/davidp/work/verbe-italiani/data/db/app.db')\n",
    "c = conn.cursor()"
   ]
  },
  {
   "cell_type": "code",
   "execution_count": 81,
   "metadata": {},
   "outputs": [],
   "source": [
    "class Card:\n",
    "    def __init__(self, section, id, day, repetitions=0, interval=1, easiness=2.5, next_practice=0):\n",
    "        self.section = section\n",
    "        self.id = id\n",
    "        self.repetitions = repetitions\n",
    "        self.interval = interval\n",
    "        self.easiness = easiness\n",
    "        self.next_practice = next_practice\n",
    "\n",
    "    def update(self, quality, day):\n",
    "        # SM-2\n",
    "        assert quality >= 0 and quality <= 5\n",
    "        self.easiness = max(1.3, self.easiness + 0.1 - (5.0 - quality) * (0.08 + (5.0 - quality) * 0.02))\n",
    "        if quality < 3:\n",
    "            self.repetitions = 0\n",
    "        else:\n",
    "            self.repetitions += 1\n",
    "        if self.repetitions <= 1:\n",
    "            self.interval = 1\n",
    "        elif self.repetitions == 2:\n",
    "            self.interval = 6\n",
    "        else:\n",
    "            self.interval *= self.easiness\n",
    "        self.next_practice = day + self.interval\n",
    "\n",
    "\n",
    "    def __repr__(self):\n",
    "        return('{section} / {id}  | [rep:{repetitions}] [int:{interval}] [ease:{easiness}] [next:{next_practice}]'.format(\n",
    "            section=self.section, id = self.id, repetitions=self.repetitions, interval=self.interval,\n",
    "            easiness=self.easiness, next_practice=self.next_practice\n",
    "        ))"
   ]
  },
  {
   "cell_type": "code",
   "execution_count": 55,
   "metadata": {},
   "outputs": [
    {
     "name": "stdout",
     "output_type": "stream",
     "text": [
      "FOO\n"
     ]
    }
   ],
   "source": []
  },
  {
   "cell_type": "code",
   "execution_count": 53,
   "metadata": {},
   "outputs": [
    {
     "name": "stdout",
     "output_type": "stream",
     "text": [
      "States.START\n",
      "building!\n",
      "homeview...\n",
      "any to study?\n",
      "Section view!\n",
      "Front view!\n",
      "Back view!\n",
      "Front view!\n",
      "Back view!\n",
      "CORRECT!\n"
     ]
    },
    {
     "data": {
      "text/plain": [
       "True"
      ]
     },
     "execution_count": 53,
     "metadata": {},
     "output_type": "execute_result"
    }
   ],
   "source": []
  },
  {
   "cell_type": "code",
   "execution_count": null,
   "metadata": {},
   "outputs": [],
   "source": []
  },
  {
   "cell_type": "code",
   "execution_count": null,
   "metadata": {},
   "outputs": [],
   "source": []
  }
 ],
 "metadata": {
  "kernelspec": {
   "display_name": "Python 3",
   "language": "python",
   "name": "python3"
  },
  "language_info": {
   "codemirror_mode": {
    "name": "ipython",
    "version": 3
   },
   "file_extension": ".py",
   "mimetype": "text/x-python",
   "name": "python",
   "nbconvert_exporter": "python",
   "pygments_lexer": "ipython3",
   "version": "3.7.5"
  }
 },
 "nbformat": 4,
 "nbformat_minor": 4
}
