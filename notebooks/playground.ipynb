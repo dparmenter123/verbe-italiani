{
 "cells": [
  {
   "cell_type": "code",
   "execution_count": null,
   "metadata": {},
   "outputs": [],
   "source": []
  },
  {
   "cell_type": "markdown",
   "metadata": {},
   "source": [
    "# verbe-italiani\n",
    "\n",
    "This site is a work in progress designed to help me (and maybe you!) learning the many, many conjugations of Italian verbs.\n",
    "\n",
    "Key principles:\n",
    "* Learning verbs is hard!\n",
    "* Flashcards do work (for me)\n",
    "* Take an easy form (indicativo) on the front, and learn to conjugate it into the specified form on the back\n",
    "\n",
    "The system relies on the kindness of reverso.net to get the conjugated forms. I use BeautifulSoup to parse the output, and cache the html in _data/html/*.html_ so as to not hit reverso.net too much.\n",
    "\n",
    "## ./scripts\n",
    "* _filter.sh_ - takes an input CSV and filters it by verb type, picking one random element from each form\n",
    "* _flashcards.py_ - takes a verb list, downloads each verb, and generates a CSV with all of the forms. The CSV can be tailored to your needs, and flashcard system. I use Anki and Notecards+.\n",
    "\n",
    "## ./data/lists\n",
    "* _top37.dat_ -- (a somewhat random combination of common regular, irregular, and reflexive verbs\n",
    "* _sorted.it.word.unigrams_ -- a massive list of italian words sorted by frequency. You need to filter it to as input to _flashcards.py_\n"
   ]
  },
  {
   "cell_type": "code",
   "execution_count": 2,
   "metadata": {},
   "outputs": [
    {
     "data": {
      "text/plain": [
       "5"
      ]
     },
     "execution_count": 2,
     "metadata": {},
     "output_type": "execute_result"
    }
   ],
   "source": [
    "import random\n",
    "\n",
    "random.choice(range(8))"
   ]
  },
  {
   "cell_type": "code",
   "execution_count": null,
   "metadata": {},
   "outputs": [],
   "source": []
  },
  {
   "cell_type": "code",
   "execution_count": null,
   "metadata": {},
   "outputs": [],
   "source": []
  }
 ],
 "metadata": {
  "kernelspec": {
   "display_name": "Python 3",
   "language": "python",
   "name": "python3"
  },
  "language_info": {
   "codemirror_mode": {
    "name": "ipython",
    "version": 3
   },
   "file_extension": ".py",
   "mimetype": "text/x-python",
   "name": "python",
   "nbconvert_exporter": "python",
   "pygments_lexer": "ipython3",
   "version": "3.7.5"
  }
 },
 "nbformat": 4,
 "nbformat_minor": 4
}
